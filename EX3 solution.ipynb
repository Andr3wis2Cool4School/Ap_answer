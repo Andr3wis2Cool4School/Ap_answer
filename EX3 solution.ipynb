{
 "cells": [
  {
   "cell_type": "code",
   "execution_count": 1,
   "id": "da3fddc2",
   "metadata": {},
   "outputs": [],
   "source": [
    "# 4 10 16"
   ]
  },
  {
   "cell_type": "code",
   "execution_count": 2,
   "id": "a70b8d96",
   "metadata": {},
   "outputs": [],
   "source": [
    "# P Q T s u"
   ]
  },
  {
   "cell_type": "code",
   "execution_count": 3,
   "id": "f0752485",
   "metadata": {},
   "outputs": [],
   "source": [
    "# A"
   ]
  },
  {
   "cell_type": "code",
   "execution_count": 4,
   "id": "d6cb746d",
   "metadata": {},
   "outputs": [],
   "source": [
    "# A"
   ]
  },
  {
   "cell_type": "code",
   "execution_count": 5,
   "id": "ca619ecb",
   "metadata": {},
   "outputs": [],
   "source": [
    "# A"
   ]
  },
  {
   "cell_type": "code",
   "execution_count": 6,
   "id": "9cc58841",
   "metadata": {},
   "outputs": [],
   "source": [
    "# A"
   ]
  },
  {
   "cell_type": "code",
   "execution_count": 7,
   "id": "060bb268",
   "metadata": {},
   "outputs": [
    {
     "data": {
      "text/plain": [
       "'\\n2 4 6\\n2 4 6\\n4 6\\n4 6\\n6\\n6\\n'"
      ]
     },
     "execution_count": 7,
     "metadata": {},
     "output_type": "execute_result"
    }
   ],
   "source": [
    "'''\n",
    "2 4 6\n",
    "2 4 6\n",
    "4 6\n",
    "4 6\n",
    "6\n",
    "6\n",
    "'''"
   ]
  },
  {
   "cell_type": "code",
   "execution_count": 8,
   "id": "b44bc132",
   "metadata": {},
   "outputs": [],
   "source": [
    "# {1, 6, 3, 4}"
   ]
  },
  {
   "cell_type": "code",
   "execution_count": 9,
   "id": "489ff8a8",
   "metadata": {},
   "outputs": [],
   "source": [
    "# False always"
   ]
  },
  {
   "cell_type": "code",
   "execution_count": 10,
   "id": "0d145e96",
   "metadata": {},
   "outputs": [],
   "source": [
    "# 10"
   ]
  },
  {
   "cell_type": "markdown",
   "id": "bf69dcad",
   "metadata": {},
   "source": [
    "# 11\n",
    "\n",
    "```java\n",
    "public class rotated2 {\n",
    "    public static int findMin(int[] nums) {\n",
    "        int low = 0;\n",
    "        int high = nums.length - 1;\n",
    "        while (low < high) {\n",
    "            int pivot = low + (high - low) / 2;\n",
    "            if (nums[pivot] < nums[high]) {\n",
    "                high = pivot;\n",
    "            } else if (nums[pivot] > nums[high]){\n",
    "                low = pivot + 1;\n",
    "            } else {\n",
    "                high -= 1;\n",
    "            }\n",
    "        }\n",
    "        return nums[low];\n",
    "    }\n",
    "    public static void main(String args[]){\n",
    "        int [] nums1 = {1, 3, 5};\n",
    "        int [] nums2 = {2, 2, 2, 0, 1};\n",
    "\n",
    "        int res1 = findMin(nums1);\n",
    "        int res2 = findMin(nums2);\n",
    "        System.out.println(res1);\n",
    "        System.out.println(res2);\n",
    "    }\n",
    "\n",
    "}\n",
    "```"
   ]
  },
  {
   "cell_type": "markdown",
   "id": "719381f3",
   "metadata": {},
   "source": [
    "# 12\n",
    "```java\n",
    "for (int [] row: numbers){\n",
    "    for (int n: row)\n",
    "    { System.out.print(n)}\n",
    "}\n",
    "```"
   ]
  },
  {
   "cell_type": "code",
   "execution_count": null,
   "id": "254b28f3",
   "metadata": {},
   "outputs": [],
   "source": []
  }
 ],
 "metadata": {
  "kernelspec": {
   "display_name": "Python 3",
   "language": "python",
   "name": "python3"
  },
  "language_info": {
   "codemirror_mode": {
    "name": "ipython",
    "version": 3
   },
   "file_extension": ".py",
   "mimetype": "text/x-python",
   "name": "python",
   "nbconvert_exporter": "python",
   "pygments_lexer": "ipython3",
   "version": "3.8.8"
  }
 },
 "nbformat": 4,
 "nbformat_minor": 5
}
